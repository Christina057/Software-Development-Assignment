{
 "cells": [
  {
   "cell_type": "code",
   "execution_count": 15,
   "id": "131a750c",
   "metadata": {},
   "outputs": [],
   "source": [
    "import pandas as pd\n",
    "from datetime import timedelta"
   ]
  },
  {
   "cell_type": "code",
   "execution_count": 16,
   "id": "d8a19e85",
   "metadata": {},
   "outputs": [],
   "source": [
    "# Load the Excel file\n",
    "df = pd.read_excel('Assignment_Timecard.xlsx')"
   ]
  },
  {
   "cell_type": "code",
   "execution_count": 17,
   "id": "0de7fbcb",
   "metadata": {},
   "outputs": [],
   "source": [
    "# Convert 'Time' and 'Time Out' to datetime\n",
    "df['Time'] = pd.to_datetime(df['Time'])\n",
    "df['Time Out'] = pd.to_datetime(df['Time Out'])"
   ]
  },
  {
   "cell_type": "code",
   "execution_count": 18,
   "id": "73c58a6b",
   "metadata": {},
   "outputs": [],
   "source": [
    "# Calculate the shift duration\n",
    "df['Shift Duration'] = df['Time Out'] - df['Time']"
   ]
  },
  {
   "cell_type": "code",
   "execution_count": 19,
   "id": "980565b2",
   "metadata": {},
   "outputs": [],
   "source": [
    "# Sort by 'Employee Name' and 'Time'\n",
    "df.sort_values(['Employee Name', 'Time'], inplace=True)"
   ]
  },
  {
   "cell_type": "code",
   "execution_count": 20,
   "id": "a67c6337",
   "metadata": {},
   "outputs": [],
   "source": [
    "# Calculate the time between shifts\n",
    "df['Time Between Shifts'] = df.groupby('Employee Name')['Time'].diff()\n",
    "# Drop rows with NaT in 'Time' column\n",
    "df = df.dropna(subset=['Time'])"
   ]
  },
  {
   "cell_type": "code",
   "execution_count": 21,
   "id": "f0236ef0",
   "metadata": {},
   "outputs": [],
   "source": [
    "# Find employees who worked 7 consecutive days\n",
    "consecutive_days = df.groupby('Employee Name').rolling('7D', on='Time')['Position ID'].count()\n",
    "employees_7_days = consecutive_days[consecutive_days >= 7].index.get_level_values('Employee Name').unique()"
   ]
  },
  {
   "cell_type": "code",
   "execution_count": 23,
   "id": "246f1f6a",
   "metadata": {},
   "outputs": [],
   "source": [
    "# Find employees who have less than 10 hours but more than 1 hour between shifts\n",
    "employees_less_10_hours = df[(df['Time Between Shifts'] > timedelta(hours=1)) & (df['Time Between Shifts'] < timedelta(hours=10))]['Employee Name'].unique()"
   ]
  },
  {
   "cell_type": "code",
   "execution_count": 24,
   "id": "2af0ec76",
   "metadata": {},
   "outputs": [],
   "source": [
    "employees_more_14_hours = df[df['Shift Duration'] > timedelta(hours=14)]['Employee Name'].unique()"
   ]
  },
  {
   "cell_type": "code",
   "execution_count": 25,
   "id": "c4a6c1ab",
   "metadata": {},
   "outputs": [
    {
     "name": "stdout",
     "output_type": "stream",
     "text": [
      "Employees who worked 7 consecutive days: Index(['AGeX, WaMhaW REGerM PeWa', 'AXcEcer, ECar JesAs', 'AXvarez, Edgar',\n",
      "       'ArCeWMa FXEres, JEWaMhaW', 'ArEsMigAi, AXexaWder', 'ArevaXE, JEse',\n",
      "       'Arias, FeXipe', 'CAevas ZavaXa, JErge XAis', 'CEMMa, Jessica',\n",
      "       'CErMes, DEAgXas Farid', 'CEreira Jr, JEse', 'CaMXEck, CEhaCCed',\n",
      "       'CaMaXaWE, CeghaW', 'CaXdEWadE, AXfEWsE', 'Caxies, MerreXX',\n",
      "       'CcRAWWeX, REWaXd Xee', 'CeciWa, SiXvesMre Jr', 'CercadE, CrisMiaW',\n",
      "       'CercadE, SaAX', 'CesiWa CEreWE, KeviW FaGiaW',\n",
      "       'ChaCErE, HEXger CarMiWez', 'DECiWgAez AviWa, CigAeX AWgeX',\n",
      "       'De XEs SaWMEs, JEseph XAis', 'De Xa Cerda, IgWaciE',\n",
      "       'DeXgadiXXE REdarMe, ChrisMiaW S', 'DiWh, DaA',\n",
      "       'DiXXard, JEwaWW Cedric', 'Diaz GaXvez, RicardE JEsAe',\n",
      "       'EXivares, FeXCaW', 'EasMCaW, CichaeX', 'ErEpeza, JEvaW',\n",
      "       'ErEzcE, SaAX', 'ErMiz, AGigaiX', 'EsMrada, JEse FeXix',\n",
      "       'FeXix, XeEWeX', 'GAMierrez, PedrE CigAeX', 'GAeWdia, JAaW CarXEs',\n",
      "       'GaWks, GryaW', 'GaXCes, EXias XEpez', 'GarWes, JAsMiW',\n",
      "       'GrACfieXd, CErWeXiAs', 'HEGGie ErMega, SeGasMiaW CichaeX',\n",
      "       'HaCiXMEW, DeaWMe DevEW', 'HerCEsiXXE, PedrE',\n",
      "       'HerWaWdez SaWchez, AWdrew AWMhEWy', 'IWGEAa, JeffersEW',\n",
      "       'JerEWiCE CEraXes, CarXEs D', 'MAake, CasiaWE', 'MAcker, CichaeX',\n",
      "       'MaXeGi, ACirCasEAd', 'MraW, WiXXiaC Ha', 'PaXaciE, JEWaMhaW',\n",
      "       'PayaW, DaWieX', 'Perez, EdwiW JiCeWez', 'PerkiWs, MarraWce',\n",
      "       'RAvaXcaGa GaWAeXEs, DaWieX JesAs', 'REdrigAez, GraWdEW AWgeX',\n",
      "       'REdrigAez, PedrE', 'REdrigAez, XAis', 'REsaXiaWE, XAis',\n",
      "       'RaCEs HerWaWdez, AdieX ECar', 'Rivera AXcaWMar, GrayaW',\n",
      "       'SMrickXaWd, REdWey EAgeWe', 'SaWchez PaCpXEWa, CrisMiaW AXGerM',\n",
      "       'SaWchez, ArWAXfE', 'SavaWg, JEhW', 'SiWgXeMEW, REger',\n",
      "       'SiWgh, JaspreeM', 'SiWgh, MarAWpreeM', 'Sparks, KeWWeMh',\n",
      "       'VaXderraCa CasMiXXE, Escar FaGiaW', 'VasqAez, AXfredE',\n",
      "       'VasqAez, JEhW SeGasMiaW', 'ViXXa, AXfredE AieXXE', 'WgAyeW, RayCEWd',\n",
      "       'WiXXiaCs, MyrreXX', 'XEpez WAWez, XAis',\n",
      "       'XariEs XaWdaverde, XAis ErWesME', 'XariEs, Cesar GiEvaWWi',\n",
      "       'Xee, XaCar', 'XiWW, JAsMiW', 'ZaCEra, CigAeX', 'ZaCEra, Edward'],\n",
      "      dtype='object', name='Employee Name')\n"
     ]
    }
   ],
   "source": [
    "print('Employees who worked 7 consecutive days:', employees_7_days)"
   ]
  },
  {
   "cell_type": "code",
   "execution_count": 26,
   "id": "5738937b",
   "metadata": {},
   "outputs": [
    {
     "name": "stdout",
     "output_type": "stream",
     "text": [
      "Employees who have less than 10 hours but more than 1 hour between shifts: ['AGeX, WaMhaW REGerM PeWa' 'AXcEcer, ECar JesAs' 'AXvarez, Edgar'\n",
      " 'ArCeWMa FXEres, JEWaMhaW' 'ArEsMigAi, AXexaWder' 'ArevaXE, JEse'\n",
      " 'Arias, FeXipe' 'ArrAMia, AXexis ArMArE' 'CAevas ZavaXa, JErge XAis'\n",
      " 'CEMMa, Jessica' 'CErMes, DEAgXas Farid' 'CEreira Jr, JEse'\n",
      " 'CaMXEck, CEhaCCed' 'CaMaXaWE, CeghaW' 'CaXdEWadE, AXfEWsE'\n",
      " 'CarMer, XyWWeXX DejAaW Jr' 'CaraGiXXa, AWMhEWy' 'Caxies, MerreXX'\n",
      " 'CcRAWWeX, REWaXd Xee' 'CeWdEza, Erik' 'CeciWa, SiXvesMre Jr'\n",
      " 'CercadE, CrisMiaW' 'CercadE, SaAX' 'CesiWa CEreWE, KeviW FaGiaW'\n",
      " 'ChaCErE, HEXger CarMiWez' 'CharXes, EGadiah SEraccE Jr'\n",
      " 'CiGriaW DeXgadE, EXeWa S' 'DECiWgAez AviWa, CigAeX AWgeX'\n",
      " 'De XEs SaWMEs, JEseph XAis' 'De Xa Cerda, IgWaciE'\n",
      " 'DeXgadiXXE REdarMe, ChrisMiaW S' 'DiWh, DaA' 'DiXXard, JEwaWW Cedric'\n",
      " 'Diaz GaXvez, RicardE JEsAe' 'EXivares, FeXCaW' 'EasMCaW, CichaeX'\n",
      " 'ErEpeza, JEvaW' 'ErEzcE, SaAX' 'ErMiz, AGigaiX' 'EsMrada, JEse FeXix'\n",
      " 'FaGiaW CiraWda, JEse' 'FeXix, XeEWeX' 'GAMierrez, PedrE CigAeX'\n",
      " 'GAeWdia, JAaW CarXEs' 'GaWks, GryaW' 'GaXCes, EXias XEpez'\n",
      " 'GarWes, JAsMiW' 'GrACfieXd, CErWeXiAs' 'HAWMer, ViWceWM De PaAX'\n",
      " 'HEGGie ErMega, SeGasMiaW CichaeX' 'HaCiXMEW, DeaWMe DevEW'\n",
      " 'HerCEsiXXE, PedrE' 'HerWaWdez SaWchez, AWdrew AWMhEWy'\n",
      " 'IWGEAa, JeffersEW' 'JerEWiCE CEraXes, CarXEs D' 'MAake, CasiaWE'\n",
      " 'MAcker, CichaeX' 'MaXeGi, ACirCasEAd' 'Merrazas, GriaW'\n",
      " 'MraW, WiXXiaC Ha' 'PaAXE, KyXe' 'PaXaciE, JEWaMhaW' 'PayaW, DaWieX'\n",
      " 'Perez, EdwiW JiCeWez' 'PerkiWs, MarraWce'\n",
      " 'RAvaXcaGa GaWAeXEs, DaWieX JesAs' 'RECerE, SergiE'\n",
      " 'REdrigAez, AXexis GAMierrez' 'REdrigAez, GraWdEW AWgeX'\n",
      " 'REdrigAez, PedrE' 'REdrigAez, XAis' 'REsaXiaWE, XAis'\n",
      " 'RaCEs HerWaWdez, AdieX ECar' 'Rivera AXcaWMar, GrayaW'\n",
      " 'SMrickXaWd, REdWey EAgeWe' 'SaWchez PaCpXEWa, CrisMiaW AXGerM'\n",
      " 'SaWchez, ArWAXfE' 'SavaWg, JEhW' 'SiWgXeMEW, REger' 'SiWgh, CaWpreeM'\n",
      " 'SiWgh, JaspreeM' 'SiWgh, MarAWpreeM' 'Sparks, KeWWeMh'\n",
      " 'VaXderraCa CasMiXXE, Escar FaGiaW' 'VasqAez, AXfredE'\n",
      " 'VasqAez, JEhW SeGasMiaW' 'ViXXa, AXfredE AieXXE' 'WgAyeW, RayCEWd'\n",
      " 'WiXXiaCs, MyrreXX' 'XEpez WAWez, XAis' 'XariEs XaWdaverde, XAis ErWesME'\n",
      " 'XariEs, Cesar GiEvaWWi' 'Xee, XaCar' 'XiWW, JAsMiW' 'ZaCEra, CigAeX'\n",
      " 'ZaCEra, Edward']\n"
     ]
    }
   ],
   "source": [
    "print('Employees who have less than 10 hours but more than 1 hour between shifts:', employees_less_10_hours)"
   ]
  },
  {
   "cell_type": "code",
   "execution_count": 27,
   "id": "5645e191",
   "metadata": {},
   "outputs": [
    {
     "name": "stdout",
     "output_type": "stream",
     "text": [
      "Employees who worked more than 14 hours in a single shift: ['DeXgadiXXE REdarMe, ChrisMiaW S']\n"
     ]
    }
   ],
   "source": [
    "print('Employees who worked more than 14 hours in a single shift:', employees_more_14_hours)"
   ]
  },
  {
   "cell_type": "code",
   "execution_count": null,
   "id": "9278d21f",
   "metadata": {},
   "outputs": [],
   "source": []
  }
 ],
 "metadata": {
  "kernelspec": {
   "display_name": "Python 3 (ipykernel)",
   "language": "python",
   "name": "python3"
  },
  "language_info": {
   "codemirror_mode": {
    "name": "ipython",
    "version": 3
   },
   "file_extension": ".py",
   "mimetype": "text/x-python",
   "name": "python",
   "nbconvert_exporter": "python",
   "pygments_lexer": "ipython3",
   "version": "3.9.13"
  }
 },
 "nbformat": 4,
 "nbformat_minor": 5
}
